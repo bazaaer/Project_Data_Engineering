{
 "cells": [
  {
   "cell_type": "markdown",
   "metadata": {},
   "source": [
    "# Pipeline\n",
    "\n",
    "1. Maak SQL scripts voor schema's: RAW, ARCHIVED, CLEANSED\n",
    "2. Importeer source data in RAW\n",
    "3. Data cleaning => RAW naar ARCHIVED en CLEANSED\n",
    "4. Maak SQL scripts voor Data Warehouse / Ster schema\n",
    "5. Import van CLEANSED naar DWH\n",
    "6. Prep Data lake: export tabellen naar Parquet files\n",
    "7. Upload Parquet files naar S3 (eerst bucket aanmaken)\n",
    "8. Maak Athena tables\n",
    "9. Gebruik Athena in BI tool naar keuze"
   ]
  },
  {
   "cell_type": "code",
   "execution_count": 4,
   "metadata": {},
   "outputs": [
    {
     "name": "stdout",
     "output_type": "stream",
     "text": [
      "Note: you may need to restart the kernel to use updated packages.\n"
     ]
    }
   ],
   "source": [
    "%pip install -q pandas sqlalchemy psycopg2-binary"
   ]
  },
  {
   "cell_type": "markdown",
   "metadata": {},
   "source": [
    "## Stap 1: SQL scripts"
   ]
  },
  {
   "cell_type": "code",
   "execution_count": 5,
   "metadata": {},
   "outputs": [],
   "source": [
    "import psycopg2\n",
    "\n",
    "# Verbindingsgegevens\n",
    "host = \"db\"\n",
    "dbname = \"postgres\"\n",
    "user = \"postgres\"\n",
    "password = \"postgres\"\n",
    "port = \"5432\"  # Standaard PostgreSQL poort\n",
    "\n",
    "# Maak de verbinding\n",
    "conn = psycopg2.connect(\n",
    "    host=host,\n",
    "    dbname=dbname,\n",
    "    user=user,\n",
    "    password=password,\n",
    "    port=port\n",
    ")\n",
    "\n",
    "# Maak een cursor aan\n",
    "cur = conn.cursor()\n",
    "# Open het SQL-bestand\n",
    "with open('./sql_scripts/raw.sql', 'r') as file:\n",
    "    sql_script = file.read()\n",
    "cur.execute(sql_script)\n",
    "\n",
    "with open('./sql_scripts/archived.sql', 'r') as file:\n",
    "    sql_script = file.read()\n",
    "cur.execute(sql_script)\n",
    "\n",
    "with open('./sql_scripts/cleansed.sql', 'r') as file:\n",
    "    sql_script = file.read()\n",
    "cur.execute(sql_script)\n",
    "\n",
    "conn.commit()  # Vergeet niet te committeren als het script wijzigingen maakt"
   ]
  },
  {
   "cell_type": "markdown",
   "metadata": {},
   "source": [
    "## Stap 2: raw importeren"
   ]
  },
  {
   "cell_type": "code",
   "execution_count": 6,
   "metadata": {},
   "outputs": [],
   "source": [
    "from sqlalchemy import create_engine, Integer, String, DateTime, Float, DECIMAL, CHAR, SmallInteger, DATE, TIME, Column\n",
    "from datetime import datetime as dt\n",
    "\n",
    "# Vervang 'username', 'password', 'host', 'port', en 'database' met jouw databasegegevens\n",
    "engine = create_engine('postgresql://postgres:postgres@db:5432/postgres')\n",
    "\n",
    "import pandas as pd"
   ]
  },
  {
   "cell_type": "code",
   "execution_count": 9,
   "metadata": {},
   "outputs": [
    {
     "data": {
      "text/plain": [
       "61"
      ]
     },
     "execution_count": 9,
     "metadata": {},
     "output_type": "execute_result"
    }
   ],
   "source": [
    "SCHEMA = 'raw'\n",
    "TABEL = 'aankomst'\n",
    "\n",
    "# Pas het pad naar je CSV-bestand aan\n",
    "df = pd.read_csv(f'./source_data/export_{TABEL}.txt', sep='\\t', dtype=str, encoding='raw_unicode_escape')\n",
    "\n",
    "df.to_sql(TABEL, con=engine, schema=SCHEMA, if_exists='replace', index=False, dtype={\n",
    "    \"Vluchtid\": String,\n",
    "    \"Vliegtuigcode\": String,\n",
    "    \"Terminal\": String,\n",
    "    \"Gate\": String,\n",
    "    \"Baan\": String,\n",
    "    \"Bezetting\": String,\n",
    "    \"Vracht\": String,\n",
    "    \"Aankomsttijd\": String,\n",
    "})\n"
   ]
  },
  {
   "cell_type": "code",
   "execution_count": 10,
   "metadata": {},
   "outputs": [
    {
     "data": {
      "text/plain": [
       "6"
      ]
     },
     "execution_count": 10,
     "metadata": {},
     "output_type": "execute_result"
    }
   ],
   "source": [
    "TABEL = 'banen'\n",
    "file_path = f'./source_data/export_{TABEL}.csv' \n",
    "df = pd.read_csv(file_path, sep=';', dtype=str)\n",
    "\n",
    "\n",
    "df.to_sql(TABEL, con=engine, schema=SCHEMA, if_exists='replace', index=False, dtype={\n",
    "    \"Baannummer\": String,\n",
    "    \"Code\": String,\n",
    "    \"Naam\": String,\n",
    "    \"Lengte\": String\n",
    "})"
   ]
  },
  {
   "cell_type": "code",
   "execution_count": 11,
   "metadata": {},
   "outputs": [
    {
     "data": {
      "text/plain": [
       "110"
      ]
     },
     "execution_count": 11,
     "metadata": {},
     "output_type": "execute_result"
    }
   ],
   "source": [
    "TABEL = 'klant'\n",
    "file_path = f'./source_data/export_{TABEL}.csv'\n",
    "df = pd.read_csv(file_path, sep=';', dtype=str)\n",
    "\n",
    "\n",
    "df.to_sql(TABEL, con=engine, schema=SCHEMA, if_exists='replace', index=False, dtype={\n",
    "    \"Vluchtid\": String,\n",
    "    \"Operatie\": String,\n",
    "    \"Faciliteiten\": String,\n",
    "    \"Shops\": String\n",
    "})"
   ]
  },
  {
   "cell_type": "code",
   "execution_count": 12,
   "metadata": {},
   "outputs": [
    {
     "data": {
      "text/plain": [
       "107"
      ]
     },
     "execution_count": 12,
     "metadata": {},
     "output_type": "execute_result"
    }
   ],
   "source": [
    "TABEL = 'luchthavens'\n",
    "file_path = f'./source_data/export_{TABEL}.txt'\n",
    "df = pd.read_csv(file_path, sep='\\t', dtype=str, encoding='raw_unicode_escape')\n",
    "\n",
    "\n",
    "df.to_sql(TABEL, con=engine, schema=SCHEMA, if_exists='replace', index=False, dtype={\n",
    "    \"Airport\": String,\n",
    "    \"City\": String,\n",
    "    \"Country\": String,\n",
    "    \"IATA\": String,\n",
    "    \"ICAO\": String,\n",
    "    \"Lat\": String,\n",
    "    \"Lon\": String,\n",
    "    \"Alt\": String,\n",
    "    \"TZ\": String,\n",
    "    \"DST\": String,\n",
    "    \"Tz\": String\n",
    "})"
   ]
  },
  {
   "cell_type": "code",
   "execution_count": 13,
   "metadata": {},
   "outputs": [
    {
     "data": {
      "text/plain": [
       "166"
      ]
     },
     "execution_count": 13,
     "metadata": {},
     "output_type": "execute_result"
    }
   ],
   "source": [
    "TABEL = 'maatschappijen'\n",
    "file_path = f'./source_data/export_{TABEL}.txt'\n",
    "df = pd.read_csv(file_path, sep='\\t', dtype=str, encoding='raw_unicode_escape')\n",
    "\n",
    "\n",
    "df.to_sql(TABEL, con=engine, schema=SCHEMA, if_exists='replace', index=False, dtype={\n",
    "    \"Name\": String,\n",
    "    \"IATA\": String,\n",
    "    \"ICAO\": String\n",
    "})"
   ]
  },
  {
   "cell_type": "code",
   "execution_count": 14,
   "metadata": {},
   "outputs": [
    {
     "data": {
      "text/plain": [
       "693"
      ]
     },
     "execution_count": 14,
     "metadata": {},
     "output_type": "execute_result"
    }
   ],
   "source": [
    "TABEL = 'planning'\n",
    "file_path = f'./source_data/export_{TABEL}.txt'\n",
    "df = pd.read_csv(file_path, sep='\\t', dtype=str, encoding='raw_unicode_escape')\n",
    "\n",
    "\n",
    "df.to_sql(TABEL, con=engine, schema=SCHEMA, if_exists='replace', index=False, dtype={\n",
    "    \"Vluchtnr\": String,\n",
    "    \"Airlinecode\": String,\n",
    "    \"Destcode\": String,\n",
    "    \"Planterminal\": String,\n",
    "    \"Plangate\": String,\n",
    "    \"Plantijd\": String\n",
    "})"
   ]
  },
  {
   "cell_type": "code",
   "execution_count": 15,
   "metadata": {},
   "outputs": [
    {
     "data": {
      "text/plain": [
       "447"
      ]
     },
     "execution_count": 15,
     "metadata": {},
     "output_type": "execute_result"
    }
   ],
   "source": [
    "TABEL = 'vertrek'\n",
    "file_path = f'./source_data/export_{TABEL}.txt'\n",
    "df = pd.read_csv(file_path, sep='\\t', dtype=str, encoding='raw_unicode_escape')\n",
    "\n",
    "\n",
    "df.to_sql(TABEL, con=engine, schema=SCHEMA, if_exists='replace', index=False, dtype={\n",
    "    \"Vluchtid\": String,\n",
    "    \"Vliegtuigcode\": String,\n",
    "    \"Terminal\": String,\n",
    "    \"Gate\": String,\n",
    "    \"Baan\": String,\n",
    "    \"Bezetting\": String,\n",
    "    \"Vracht\": String,\n",
    "    \"Vertrektijd\": String\n",
    "})"
   ]
  },
  {
   "cell_type": "code",
   "execution_count": 16,
   "metadata": {},
   "outputs": [
    {
     "data": {
      "text/plain": [
       "557"
      ]
     },
     "execution_count": 16,
     "metadata": {},
     "output_type": "execute_result"
    }
   ],
   "source": [
    "TABEL = 'vliegtuig'\n",
    "file_path = f'./source_data/export_{TABEL}.txt'\n",
    "df = pd.read_csv(file_path, sep='\\t', dtype=str, encoding='raw_unicode_escape')\n",
    "\n",
    "\n",
    "df.to_sql(TABEL, con=engine, schema=SCHEMA, if_exists='replace', index=False, dtype={\n",
    "    \"Vluchtid\": String,\n",
    "    \"Vliegtuigcode\": String,\n",
    "    \"Terminal\": String,\n",
    "    \"Gate\": String,\n",
    "    \"Baan\": String,\n",
    "    \"Bezetting\": String,\n",
    "    \"Vracht\": String,\n",
    "    \"Vertrektijd\": String\n",
    "})"
   ]
  },
  {
   "cell_type": "code",
   "execution_count": 17,
   "metadata": {},
   "outputs": [
    {
     "data": {
      "text/plain": [
       "327"
      ]
     },
     "execution_count": 17,
     "metadata": {},
     "output_type": "execute_result"
    }
   ],
   "source": [
    "TABEL = 'vliegtuigtype'\n",
    "file_path = f'./source_data/export_{TABEL}.csv'\n",
    "df = pd.read_csv(file_path, sep=';', dtype=str)\n",
    "\n",
    "\n",
    "df.to_sql(TABEL, con=engine, schema=SCHEMA, if_exists='replace', index=False, dtype={\n",
    "    \"IATA\": String,\n",
    "    \"ICAO\": String,\n",
    "    \"Merk\": String,\n",
    "    \"Type\": String,\n",
    "    \"Wake\": String,\n",
    "    \"Cat\": String,\n",
    "    \"Capaciteit\": String,\n",
    "    \"Vracht\": String\n",
    "})"
   ]
  },
  {
   "cell_type": "code",
   "execution_count": 18,
   "metadata": {},
   "outputs": [
    {
     "data": {
      "text/plain": [
       "512"
      ]
     },
     "execution_count": 18,
     "metadata": {},
     "output_type": "execute_result"
    }
   ],
   "source": [
    "TABEL = 'vlucht'\n",
    "file_path = f'./source_data/export_{TABEL}.txt'\n",
    "df = pd.read_csv(file_path, sep='\\t', dtype=str, encoding='raw_unicode_escape')\n",
    "\n",
    "\n",
    "df.to_sql(TABEL, con=engine, schema=SCHEMA, if_exists='replace', index=False, dtype={\n",
    "    \"Vluchtid\": String,\n",
    "    \"Vluchtnr\": String,\n",
    "    \"Airlinecode\": String,\n",
    "    \"Destcode\": String,\n",
    "    \"Vliegtuigcode\": String,\n",
    "    \"Datum\": String\n",
    "})"
   ]
  },
  {
   "cell_type": "code",
   "execution_count": 19,
   "metadata": {},
   "outputs": [
    {
     "data": {
      "text/plain": [
       "644"
      ]
     },
     "execution_count": 19,
     "metadata": {},
     "output_type": "execute_result"
    }
   ],
   "source": [
    "TABEL = 'weer'\n",
    "file_path = f'./source_data/export_{TABEL}.txt'\n",
    "df = pd.read_csv(file_path, sep='\\t', dtype=str, encoding='raw_unicode_escape')\n",
    "\n",
    "\n",
    "df.to_sql(TABEL, con=engine, schema=SCHEMA, if_exists='replace', index=False, dtype={\n",
    "    \"Datum\": String,\n",
    "    \"DDVEC\": String,\n",
    "    \"FHVEC\": String,\n",
    "    \"FG\": String,\n",
    "    \"FHX\": String,\n",
    "    \"FHXH\": String,\n",
    "    \"FHN\": String,\n",
    "    \"FHNH\": String,\n",
    "    \"FXX\": String,\n",
    "    \"FXXH\": String,\n",
    "    \"TG\": String,\n",
    "    \"TN\": String,\n",
    "    \"TNH\": String,\n",
    "    \"TX\": String,\n",
    "    \"TXH\": String,\n",
    "    \"T10N\": String,\n",
    "    \"T10NH\": String,\n",
    "    \"SQ\": String,\n",
    "    \"SP\": String,\n",
    "    \"Q\": String,\n",
    "    \"DR\": String,\n",
    "    \"RH\": String,\n",
    "    \"RHX\": String,\n",
    "    \"RHXH\": String,\n",
    "    \"PG\": String,\n",
    "    \"PX\": String,\n",
    "    \"PXH\": String,\n",
    "    \"PN\": String,\n",
    "    \"PNH\": String,\n",
    "    \"VVN\": String,\n",
    "    \"VVNH\": String,\n",
    "    \"VVX\": String,\n",
    "    \"VVXH\": String,\n",
    "    \"NG\": String,\n",
    "    \"UG\": String,\n",
    "    \"UX\": String,\n",
    "    \"UXH\": String,\n",
    "    \"UN\": String,\n",
    "    \"UNH\": String,\n",
    "    \"EV2\": String\n",
    "})"
   ]
  },
  {
   "cell_type": "markdown",
   "metadata": {},
   "source": [
    "awswrantler.s3.parquet zeker uitzoeken!!!!!!!!!"
   ]
  },
  {
   "cell_type": "code",
   "execution_count": 95,
   "metadata": {},
   "outputs": [],
   "source": [
    "# Load data from raw schema into DataFrames\n",
    "def load_data(engine, schema):\n",
    "    table_names = [\"aankomst\", \"banen\", \"klant\", \"luchthavens\", \"maatschappijen\", \"planning\", \"vertrek\", \"vliegtuig\", \"vliegtuigtype\", \"vlucht\", \"weer\"]\n",
    "    dataframes = {}\n",
    "    for table in table_names:\n",
    "        dataframes[table] = pd.read_sql_table(table_name=table, con=engine, schema=schema)\n",
    "    return dataframes\n",
    "\n",
    "raw_data = load_data(engine, 'raw')"
   ]
  },
  {
   "cell_type": "code",
   "execution_count": 165,
   "metadata": {},
   "outputs": [
    {
     "name": "stdout",
     "output_type": "stream",
     "text": [
      "Processing aankomst\n",
      "Processing banen\n",
      "Processing klant\n",
      "Processing luchthavens\n",
      "Processing maatschappijen\n",
      "Processing planning\n",
      "Processing vertrek\n",
      "Processing vliegtuig\n",
      "Processing vliegtuigtype\n",
      "Processing vlucht\n",
      "Processing weer\n"
     ]
    }
   ],
   "source": [
    "illegal_chars = {\n",
    "    \"IATA\": ['-', ' ', ';', '^', '+', '\\\\']\n",
    "}\n",
    "\n",
    "# Function to check for illegal characters\n",
    "def contains_illegal_chars(value, illegal_chars):\n",
    "    if any(char in str(value) for char in illegal_chars):\n",
    "        return True\n",
    "    return False\n",
    "\n",
    "# Validation and conversion functions for each table\n",
    "def validate_and_convert(df, schema, illegal_chars):\n",
    "    validated_rows = []\n",
    "    archived_rows = []\n",
    "    for index, row in df.iterrows():\n",
    "        try:\n",
    "            converted_row = {}\n",
    "            for column, column_info in schema.items():\n",
    "                if pd.isna(row[column]):\n",
    "                    if column_info.nullable:\n",
    "                        converted_row[column] = None\n",
    "                    else:\n",
    "                        raise ValueError(f\"Null value in non-nullable column: {column}\")\n",
    "                elif '\\\\N' in str(row[column]):\n",
    "                    converted_row[column] = None\n",
    "                else:\n",
    "                    if column in illegal_chars and contains_illegal_chars(row[column], illegal_chars[column]):\n",
    "                        raise ValueError(f\"Illegal character found in column: {column}\")\n",
    "                    \n",
    "                    \n",
    "                    value = row[column]\n",
    "                    \n",
    "                    if isinstance(column_info.type, Integer):\n",
    "                        converted_row[column] = int(value)\n",
    "                    elif isinstance(column_info.type, Float):\n",
    "                        converted_row[column] = float(value)\n",
    "                    elif isinstance(column_info.type, SmallInteger):\n",
    "                        converted_row[column] = int(value)\n",
    "                    elif isinstance(column_info.type, String):\n",
    "                        if len(str(value)) > column_info.type.length:\n",
    "                            raise ValueError(f\"String value too long for column: {column}\")\n",
    "                        converted_row[column] = str(value)\n",
    "                    elif isinstance(column_info.type, DateTime):\n",
    "                        converted_row[column] = pd.to_datetime(value)\n",
    "                    elif isinstance(column_info.type, DATE):\n",
    "                        converted_row[column] = pd.to_datetime(value).date()\n",
    "                    elif isinstance(column_info.type, TIME):\n",
    "                        converted_row[column] = dt.strptime(value, '%I:%M %p').time()\n",
    "                    elif isinstance(column_info.type, DECIMAL):\n",
    "                        converted_row[column] = round(float(value), column_info.type.scale)\n",
    "            validated_rows.append(converted_row)\n",
    "        except (ValueError, TypeError, AttributeError) as e:\n",
    "            archived_rows.append(row.to_dict())\n",
    "    return pd.DataFrame(validated_rows), pd.DataFrame(archived_rows)\n",
    "\n",
    "# Define schemas\n",
    "schema_cleansed = {\n",
    "    \"aankomst\": {\n",
    "        \"Vluchtid\": Column(Integer),\n",
    "        \"Vliegtuigcode\": Column(String(8)),\n",
    "        \"Terminal\": Column(CHAR(1)),\n",
    "        \"Gate\": Column(String(2)),\n",
    "        \"Baan\": Column(CHAR(1)),\n",
    "        \"Bezetting\": Column(SmallInteger),\n",
    "        \"Vracht\": Column(CHAR(2)),\n",
    "        \"Aankomsttijd\": Column(DateTime)\n",
    "    },\n",
    "    \"banen\": {\n",
    "        \"Baannummer\": Column(CHAR(1), nullable=False),\n",
    "        \"Code\": Column(String(7)),\n",
    "        \"Naam\": Column(String(30)),\n",
    "        \"Lengte\": Column(SmallInteger)\n",
    "    },\n",
    "    \"klant\": {\n",
    "        \"Vluchtid\": Column(Integer, nullable=False),\n",
    "        \"Operatie\": Column(DECIMAL(2, 1)),\n",
    "        \"Faciliteiten\": Column(DECIMAL(2, 1)),\n",
    "        \"Shops\": Column(DECIMAL(2, 1))\n",
    "    },\n",
    "    \"luchthavens\": {\n",
    "        \"Airport\": Column(String(100)),\n",
    "        \"City\": Column(String(100)),\n",
    "        \"Country\": Column(String(100)),\n",
    "        \"IATA\": Column(CHAR(3), nullable=False),\n",
    "        \"ICAO\": Column(CHAR(4)),\n",
    "        \"Lat\": Column(Float),\n",
    "        \"Lon\": Column(Float),\n",
    "        \"Alt\": Column(SmallInteger),\n",
    "        \"TZ\": Column(DECIMAL(3, 1)),\n",
    "        \"DST\": Column(CHAR(1)),\n",
    "        \"Tz\": Column(String(100))\n",
    "    },\n",
    "    \"maatschappijen\": {\n",
    "        \"Name\": Column(String(50)),\n",
    "        \"IATA\": Column(String(3), nullable=False),\n",
    "        \"ICAO\": Column(String(3))\n",
    "    },\n",
    "    \"planning\": {\n",
    "        \"Vluchtnr\": Column(String(7)),\n",
    "        \"Airlinecode\": Column(String(3)),\n",
    "        \"Destcode\": Column(CHAR(3)),\n",
    "        \"Planterminal\": Column(CHAR(1)),\n",
    "        \"Plangate\": Column(String(2)),\n",
    "        \"Plantijd\": Column(TIME, nullable=False)\n",
    "    },\n",
    "    \"vertrek\": {\n",
    "        \"Vluchtid\": Column(Integer, nullable=False),\n",
    "        \"Vliegtuigcode\": Column(String(8)),\n",
    "        \"Terminal\": Column(CHAR(1)),\n",
    "        \"Gate\": Column(String(2)),\n",
    "        \"Baan\": Column(CHAR(1)),\n",
    "        \"Bezetting\": Column(SmallInteger),\n",
    "        \"Vracht\": Column(CHAR(2)),\n",
    "        \"Vertrektijd\": Column(DateTime, nullable=False)\n",
    "    },\n",
    "    \"vliegtuig\": {\n",
    "        \"Airlinecode\": Column(String(3)),\n",
    "        \"Vliegtuigcode\": Column(String(8), nullable=False),\n",
    "        \"Vliegtuigtype\": Column(CHAR(3)),\n",
    "        \"Bouwjaar\": Column(Integer)\n",
    "    },\n",
    "    \"vliegtuigtype\": {\n",
    "        \"IATA\": Column(CHAR(3), nullable=False),\n",
    "        \"ICAO\": Column(String(4)),\n",
    "        \"Merk\": Column(String(50)),\n",
    "        \"Type\": Column(String(100)),\n",
    "        \"Wake\": Column(String(3)),\n",
    "        \"Cat\": Column(String(10)),\n",
    "        \"Capaciteit\": Column(String(3)),\n",
    "        \"Vracht\": Column(String(2))\n",
    "    },\n",
    "    \"vlucht\": {\n",
    "        \"Vluchtid\": Column(Integer, nullable=False),\n",
    "        \"Vluchtnr\": Column(String(7), nullable=False),\n",
    "        \"Airlinecode\": Column(String(3)),\n",
    "        \"Destcode\": Column(CHAR(3)),\n",
    "        \"Vliegtuigcode\": Column(String(8)),\n",
    "        \"Datum\": Column(DATE)\n",
    "    },\n",
    "    \"weer\": {\n",
    "        \"Datum\": Column(DATE, nullable=False),\n",
    "        \"DDVEC\": Column(SmallInteger),\n",
    "        \"FHVEC\": Column(SmallInteger),\n",
    "        \"FG\": Column(SmallInteger),\n",
    "        \"FHX\": Column(SmallInteger),\n",
    "        \"FHXH\": Column(SmallInteger),\n",
    "        \"FHN\": Column(SmallInteger),\n",
    "        \"FHNH\": Column(SmallInteger),\n",
    "        \"FXX\": Column(SmallInteger),\n",
    "        \"FXXH\": Column(SmallInteger),\n",
    "        \"TG\": Column(SmallInteger),\n",
    "        \"TN\": Column(SmallInteger),\n",
    "        \"TNH\": Column(SmallInteger),\n",
    "        \"TX\": Column(SmallInteger),\n",
    "        \"TXH\": Column(SmallInteger),\n",
    "        \"T10N\": Column(SmallInteger),\n",
    "        \"T10NH\": Column(SmallInteger),\n",
    "        \"SQ\": Column(SmallInteger),\n",
    "        \"SP\": Column(SmallInteger),\n",
    "        \"Q\": Column(SmallInteger),\n",
    "        \"DR\": Column(SmallInteger),\n",
    "        \"RH\": Column(SmallInteger),\n",
    "        \"RHX\": Column(SmallInteger),\n",
    "        \"RHXH\": Column(SmallInteger),\n",
    "        \"PG\": Column(SmallInteger),\n",
    "        \"PX\": Column(SmallInteger),\n",
    "        \"PXH\": Column(SmallInteger),\n",
    "        \"PN\": Column(SmallInteger),\n",
    "        \"PNH\": Column(SmallInteger),\n",
    "        \"VVN\": Column(SmallInteger),\n",
    "        \"VVNH\": Column(SmallInteger),\n",
    "        \"VVX\": Column(SmallInteger),\n",
    "        \"VVXH\": Column(SmallInteger),\n",
    "        \"NG\": Column(SmallInteger),\n",
    "        \"UG\": Column(SmallInteger),\n",
    "        \"UX\": Column(SmallInteger),\n",
    "        \"UXH\": Column(SmallInteger),\n",
    "        \"UN\": Column(SmallInteger),\n",
    "        \"UNH\": Column(SmallInteger),\n",
    "        \"EV2\": Column(SmallInteger)\n",
    "    }\n",
    "}\n",
    "\n",
    "# Validate, cleanse, and archive data\n",
    "cleansed_data = {}\n",
    "archived_data = {}\n",
    "\n",
    "for table, df in raw_data.items():\n",
    "    print(f\"Processing {table}\")\n",
    "    cleansed_data[table], archived_data[table] = validate_and_convert(df, schema_cleansed[table], illegal_chars)"
   ]
  },
  {
   "cell_type": "code",
   "execution_count": 167,
   "metadata": {},
   "outputs": [],
   "source": [
    "schema_archived = {\n",
    "    \"aankomst\": {\n",
    "        \"Vluchtid\": Column(String),\n",
    "        \"Vliegtuigcode\": Column(String),\n",
    "        \"Terminal\": Column(String),\n",
    "        \"Gate\": Column(String),\n",
    "        \"Baan\": Column(String),\n",
    "        \"Bezetting\": Column(String),\n",
    "        \"Vracht\": Column(String),\n",
    "        \"Aankomsttijd\": Column(String)\n",
    "    },\n",
    "    \"banen\": {\n",
    "        \"Baannummer\": Column(String),\n",
    "        \"Code\": Column(String),\n",
    "        \"Naam\": Column(String),\n",
    "        \"Lengte\": Column(String)\n",
    "    },\n",
    "    \"klant\": {\n",
    "        \"Vluchtid\": Column(String),\n",
    "        \"Operatie\": Column(String),\n",
    "        \"Faciliteiten\": Column(String),\n",
    "        \"Shops\": Column(String)\n",
    "    },\n",
    "    \"luchthavens\": {\n",
    "        \"Airport\": Column(String),\n",
    "        \"City\": Column(String),\n",
    "        \"Country\": Column(String),\n",
    "        \"IATA\": Column(String),\n",
    "        \"ICAO\": Column(String),\n",
    "        \"Lat\": Column(String),\n",
    "        \"Lon\": Column(String),\n",
    "        \"Alt\": Column(String),\n",
    "        \"TZ\": Column(String),\n",
    "        \"DST\": Column(String),\n",
    "        \"Tz\": Column(String)\n",
    "    },\n",
    "    \"maatschappijen\": {\n",
    "        \"Name\": Column(String),\n",
    "        \"IATA\": Column(String),\n",
    "        \"ICAO\": Column(String)\n",
    "    },\n",
    "    \"planning\": {\n",
    "        \"Vluchtnr\": Column(String),\n",
    "        \"Airlinecode\": Column(String),\n",
    "        \"Destcode\": Column(String),\n",
    "        \"Planterminal\": Column(String),\n",
    "        \"Plangate\": Column(String),\n",
    "        \"Plantijd\": Column(String)\n",
    "    },\n",
    "    \"vertrek\": {\n",
    "        \"Vluchtid\": Column(String),\n",
    "        \"Vliegtuigcode\": Column(String),\n",
    "        \"Terminal\": Column(String),\n",
    "        \"Gate\": Column(String),\n",
    "        \"Baan\": Column(String),\n",
    "        \"Bezetting\": Column(String),\n",
    "        \"Vracht\": Column(String),\n",
    "        \"Vertrektijd\": Column(String)\n",
    "    },\n",
    "    \"vliegtuig\": {\n",
    "        \"Airlinecode\": Column(String),\n",
    "        \"Vliegtuigcode\": Column(String),\n",
    "        \"Vliegtuigtype\": Column(String),\n",
    "        \"Bouwjaar\": Column(String)\n",
    "    },\n",
    "    \"vliegtuigtype\": {\n",
    "        \"IATA\": Column(String),\n",
    "        \"ICAO\": Column(String),\n",
    "        \"Merk\": Column(String),\n",
    "        \"Type\": Column(String),\n",
    "        \"Wake\": Column(String),\n",
    "        \"Cat\": Column(String),\n",
    "        \"Capaciteit\": Column(String),\n",
    "        \"Vracht\": Column(String)\n",
    "    },\n",
    "    \"vlucht\": {\n",
    "        \"Vluchtid\": Column(String),\n",
    "        \"Vluchtnr\": Column(String),\n",
    "        \"Airlinecode\": Column(String),\n",
    "        \"Destcode\": Column(String),\n",
    "        \"Vliegtuigcode\": Column(String),\n",
    "        \"Datum\": Column(String)\n",
    "    },\n",
    "    \"weer\": {\n",
    "        \"Datum\": Column(String),\n",
    "        \"DDVEC\": Column(String),\n",
    "        \"FHVEC\": Column(String),\n",
    "        \"FG\": Column(String),\n",
    "        \"FHX\": Column(String),\n",
    "        \"FHXH\": Column(String),\n",
    "        \"FHN\": Column(String),\n",
    "        \"FHNH\": Column(String),\n",
    "        \"FXX\": Column(String),\n",
    "        \"FXXH\": Column(String),\n",
    "        \"TG\": Column(String),\n",
    "        \"TN\": Column(String),\n",
    "        \"TNH\": Column(String),\n",
    "        \"TX\": Column(String),\n",
    "        \"TXH\": Column(String),\n",
    "        \"T10N\": Column(String),\n",
    "        \"T10NH\": Column(String),\n",
    "        \"SQ\": Column(String),\n",
    "        \"SP\": Column(String),\n",
    "        \"Q\": Column(String),\n",
    "        \"DR\": Column(String),\n",
    "        \"RH\": Column(String),\n",
    "        \"RHX\": Column(String),\n",
    "        \"RHXH\": Column(String),\n",
    "        \"PG\": Column(String),\n",
    "        \"PX\": Column(String),\n",
    "        \"PXH\": Column(String),\n",
    "        \"PN\": Column(String),\n",
    "        \"PNH\": Column(String),\n",
    "        \"VVN\": Column(String),\n",
    "        \"VVNH\": Column(String),\n",
    "        \"VVX\": Column(String),\n",
    "        \"VVXH\": Column(String),\n",
    "        \"NG\": Column(String),\n",
    "        \"UG\": Column(String),\n",
    "        \"UX\": Column(String),\n",
    "        \"UXH\": Column(String),\n",
    "        \"UN\": Column(String),\n",
    "        \"UNH\": Column(String),\n",
    "        \"EV2\": Column(String)\n",
    "    }\n",
    "}\n"
   ]
  },
  {
   "cell_type": "code",
   "execution_count": 168,
   "metadata": {},
   "outputs": [
    {
     "name": "stdout",
     "output_type": "stream",
     "text": [
      "Inserting data into cleansed.aankomst\n",
      "Inserting data into cleansed.banen\n",
      "Inserting data into cleansed.klant\n",
      "Inserting data into cleansed.luchthavens\n",
      "Inserting data into cleansed.maatschappijen\n",
      "Inserting data into cleansed.planning\n",
      "Inserting data into cleansed.vertrek\n",
      "Inserting data into cleansed.vliegtuig\n",
      "Inserting data into cleansed.vliegtuigtype\n",
      "Inserting data into cleansed.vlucht\n",
      "Inserting data into cleansed.weer\n",
      "Inserting data into archived.aankomst\n",
      "Inserting data into archived.banen\n",
      "Inserting data into archived.klant\n",
      "Inserting data into archived.luchthavens\n",
      "Inserting data into archived.maatschappijen\n",
      "Inserting data into archived.planning\n",
      "Inserting data into archived.vertrek\n",
      "Inserting data into archived.vliegtuig\n",
      "Inserting data into archived.vliegtuigtype\n",
      "Inserting data into archived.vlucht\n",
      "Inserting data into archived.weer\n"
     ]
    }
   ],
   "source": [
    "# Convert SQLAlchemy Column types to SQLAlchemy types\n",
    "def get_sqlalchemy_dtypes(schema):\n",
    "    return {column_name: column_info.type for column_name, column_info in schema.items()}\n",
    "\n",
    "# Insert data into cleansed and archived schemas using df.to_sql\n",
    "def insert_data(data, schema, engine, schemas):\n",
    "    for table, df in data.items():\n",
    "        print(f'Inserting data into {schema}.{table}')\n",
    "        if not df.empty:\n",
    "            dtypes = get_sqlalchemy_dtypes(schemas[table])\n",
    "            df.to_sql(name=table, con=engine, schema=schema, if_exists='replace', index=False, dtype=dtypes)\n",
    "\n",
    "insert_data(cleansed_data, 'cleansed', engine, schema_cleansed)\n",
    "insert_data(archived_data, 'archived', engine, schema_archived)"
   ]
  },
  {
   "cell_type": "code",
   "execution_count": 169,
   "metadata": {},
   "outputs": [],
   "source": [
    "cleansed_data = load_data(engine, 'cleansed')"
   ]
  },
  {
   "cell_type": "code",
   "execution_count": null,
   "metadata": {},
   "outputs": [],
   "source": [
    "df_vlucht = cleansed_data['vlucht']\n",
    "df_vertrek = cleansed_data['vertrek']\n",
    "df_planning = cleansed_data['planning']"
   ]
  },
  {
   "cell_type": "code",
   "execution_count": 186,
   "metadata": {},
   "outputs": [],
   "source": [
    "def time_to_minutes(t):\n",
    "    return t.hour * 60 + t.minute + t.second / 60"
   ]
  },
  {
   "cell_type": "code",
   "execution_count": 209,
   "metadata": {},
   "outputs": [],
   "source": [
    "merged_df = pd.merge(df_vlucht, df_vertrek, on=['Vluchtid', 'Vliegtuigcode'])\n",
    "merged_df['Vertrektijd'] = merged_df['Vertrektijd'].dt.time\n",
    "final_df = pd.merge(merged_df, df_planning, on=['Vluchtnr', 'Airlinecode', 'Destcode'])\n",
    "final_df['Vertraging'] = final_df['Vertrektijd'].apply(time_to_minutes) - final_df['Plantijd'].apply(time_to_minutes)\n",
    "final_df.sort_values(by='Vluchtid', ascending=True, inplace=True)\n",
    "fact = final_df"
   ]
  },
  {
   "cell_type": "code",
   "execution_count": 210,
   "metadata": {},
   "outputs": [],
   "source": [
    "df_vliegtuig = cleansed_data['vliegtuig']\n",
    "df_vliegtuigtype = cleansed_data['vliegtuigtype']"
   ]
  },
  {
   "cell_type": "code",
   "execution_count": 211,
   "metadata": {},
   "outputs": [],
   "source": [
    "dim_vliegtuig = pd.merge(df_vliegtuig, df_vliegtuigtype, left_on='Vliegtuigtype', right_on='IATA')"
   ]
  },
  {
   "cell_type": "code",
   "execution_count": 217,
   "metadata": {},
   "outputs": [],
   "source": [
    "dim_banen = cleansed_data['banen']"
   ]
  },
  {
   "cell_type": "code",
   "execution_count": 222,
   "metadata": {},
   "outputs": [],
   "source": [
    "dim_klant = cleansed_data['klant']"
   ]
  },
  {
   "cell_type": "code",
   "execution_count": 219,
   "metadata": {},
   "outputs": [],
   "source": [
    "dim_luchthavens = cleansed_data['luchthavens']\n",
    "dim_luchthavens = dim_luchthavens.rename(columns={'IATA': 'Destcode'})"
   ]
  },
  {
   "cell_type": "code",
   "execution_count": 221,
   "metadata": {},
   "outputs": [],
   "source": [
    "dim_maatschappijen = cleansed_data['maatschappijen']\n",
    "dim_maatschappijen = dim_maatschappijen.rename(columns={'IATA': 'Airlinecode'})"
   ]
  },
  {
   "cell_type": "code",
   "execution_count": null,
   "metadata": {},
   "outputs": [],
   "source": [
    "dim_weer = cleansed_data['weer']"
   ]
  },
  {
   "cell_type": "code",
   "execution_count": 232,
   "metadata": {},
   "outputs": [],
   "source": [
    "import os\n",
    "def write_to_parquet(df, file_path):\n",
    "\n",
    "    directory = \"parquet_data\"\n",
    "\n",
    "    if not os.path.exists(directory):\n",
    "        os.makedirs(directory)\n",
    "    df.to_parquet(file_path, engine='pyarrow')"
   ]
  },
  {
   "cell_type": "code",
   "execution_count": 233,
   "metadata": {},
   "outputs": [],
   "source": [
    "write_to_parquet(fact, './parquet_data/fact.parquet')\n",
    "write_to_parquet(dim_vliegtuig, './parquet_data/vliegtuig.parquet')\n",
    "write_to_parquet(dim_banen, './parquet_data/banen.parquet')\n",
    "write_to_parquet(dim_klant, './parquet_data/klant.parquet')\n",
    "write_to_parquet(dim_luchthavens, './parquet_data/luchthavens.parquet')\n",
    "write_to_parquet(dim_maatschappijen, './parquet_data/maatschappijen.parquet')\n",
    "write_to_parquet(dim_weer, './parquet_data/weer.parquet')"
   ]
  },
  {
   "cell_type": "code",
   "execution_count": 79,
   "metadata": {},
   "outputs": [
    {
     "name": "stdout",
     "output_type": "stream",
     "text": [
      "Saved aankomst to cleansed_data/aankomst.csv\n",
      "Saved banen to cleansed_data/banen.csv\n",
      "Saved klant to cleansed_data/klant.csv\n",
      "Saved luchthavens to cleansed_data/luchthavens.csv\n",
      "Saved maatschappijen to cleansed_data/maatschappijen.csv\n",
      "Saved planning to cleansed_data/planning.csv\n",
      "Saved vertrek to cleansed_data/vertrek.csv\n",
      "Saved vliegtuig to cleansed_data/vliegtuig.csv\n",
      "Saved vliegtuigtype to cleansed_data/vliegtuigtype.csv\n",
      "Saved vlucht to cleansed_data/vlucht.csv\n",
      "Saved weer to cleansed_data/weer.csv\n"
     ]
    }
   ],
   "source": [
    "# Save cleansed data to CSV files\n",
    "def save_to_csv(data, directory='cleansed_data'):\n",
    "    import os\n",
    "    if not os.path.exists(directory):\n",
    "        os.makedirs(directory)\n",
    "    for table, df in data.items():\n",
    "        file_path = os.path.join(directory, f\"{table}.csv\")\n",
    "        df.to_csv(file_path, index=False)\n",
    "        print(f\"Saved {table} to {file_path}\")\n",
    "\n",
    "save_to_csv(cleansed_data)"
   ]
  },
  {
   "cell_type": "code",
   "execution_count": null,
   "metadata": {},
   "outputs": [],
   "source": []
  },
  {
   "cell_type": "code",
   "execution_count": null,
   "metadata": {},
   "outputs": [],
   "source": []
  },
  {
   "cell_type": "code",
   "execution_count": null,
   "metadata": {},
   "outputs": [],
   "source": []
  }
 ],
 "metadata": {
  "kernelspec": {
   "display_name": "Python 3",
   "language": "python",
   "name": "python3"
  },
  "language_info": {
   "codemirror_mode": {
    "name": "ipython",
    "version": 3
   },
   "file_extension": ".py",
   "mimetype": "text/x-python",
   "name": "python",
   "nbconvert_exporter": "python",
   "pygments_lexer": "ipython3",
   "version": "3.11.7"
  }
 },
 "nbformat": 4,
 "nbformat_minor": 2
}
